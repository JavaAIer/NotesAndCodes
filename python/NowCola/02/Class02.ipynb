{
 "cells": [
  {
   "cell_type": "code",
   "execution_count": 1,
   "metadata": {},
   "outputs": [
    {
     "name": "stdout",
     "output_type": "stream",
     "text": [
      "请输入一个[1, 100]的整数：50\n",
      "小了，再猜猜！\n",
      "请输入一个[1, 100]的整数：75\n",
      "小了，再猜猜！\n",
      "请输入一个[1, 100]的整数：87\n",
      "大了，再猜猜！\n",
      "请输入一个[1, 100]的整数：81\n",
      "小了，再猜猜！\n",
      "请输入一个[1, 100]的整数：84\n",
      "大了，再猜猜！\n",
      "请输入一个[1, 100]的整数：82\n",
      "恭喜你，猜了6次，终于猜对了！答案是82！\n"
     ]
    }
   ],
   "source": [
    "import random\n",
    "\n",
    "num = random.randint(1, 100)  # 获得一个随机数\n",
    "is_done = False  # 是否猜中的标记\n",
    "count = 0  # 玩家猜了几次\n",
    "\n",
    "while not is_done:\n",
    "    guess = int(input('请输入一个[1, 100]的整数：'))\n",
    "    if guess == num:\n",
    "        is_done = True\n",
    "    elif guess > num:\n",
    "        print('大了，再猜猜！')\n",
    "    elif guess < num:\n",
    "        print('小了，再猜猜！')\n",
    "    count += 1\n",
    "\n",
    "print('恭喜你，猜了{}次，终于猜对了！答案是{}！'.format(count, num))\n"
   ]
  },
  {
   "cell_type": "code",
   "execution_count": null,
   "metadata": {},
   "outputs": [],
   "source": []
  }
 ],
 "metadata": {
  "kernelspec": {
   "display_name": "Python 3",
   "language": "python",
   "name": "python3"
  },
  "language_info": {
   "codemirror_mode": {
    "name": "ipython",
    "version": 3
   },
   "file_extension": ".py",
   "mimetype": "text/x-python",
   "name": "python",
   "nbconvert_exporter": "python",
   "pygments_lexer": "ipython3",
   "version": "3.7.0"
  }
 },
 "nbformat": 4,
 "nbformat_minor": 2
}
