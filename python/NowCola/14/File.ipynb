{
 "cells": [
  {
   "cell_type": "code",
   "execution_count": 1,
   "metadata": {},
   "outputs": [
    {
     "name": "stdout",
     "output_type": "stream",
     "text": [
      "f=open(r'D:\\Codes\\NowCoder\\NotesAndCodes\\python\\NowCola\\14\\read_file.py','r')\n",
      "for l in f.readlines():\n",
      "    print(l,end='')\n",
      "f.close()"
     ]
    }
   ],
   "source": [
    "f=open(r'D:\\Codes\\NowCoder\\NotesAndCodes\\python\\NowCola\\14\\read_file.py','r')\n",
    "for l in f.readlines():\n",
    "    print(l,end='')\n",
    "f.close()"
   ]
  },
  {
   "cell_type": "code",
   "execution_count": 2,
   "metadata": {},
   "outputs": [
    {
     "name": "stdout",
     "output_type": "stream",
     "text": [
      "f=open(r'D:\\Codes\\NowCoder\\NotesAndCodes\\python\\NowCola\\14\\read_file.py','r')\n",
      "for l in f.readlines():\n",
      "    print(l,end='')\n",
      "f.close()"
     ]
    }
   ],
   "source": [
    "with open(r'D:\\Codes\\NowCoder\\NotesAndCodes\\python\\NowCola\\14\\read_file.py','r') as f:\n",
    "    for l in f.readlines():\n",
    "        print(l,end='')"
   ]
  },
  {
   "cell_type": "code",
   "execution_count": 9,
   "metadata": {},
   "outputs": [
    {
     "name": "stdout",
     "output_type": "stream",
     "text": [
      "f=open(r'D:\\Codes\\NowCoder\\NotesAndCodes\\python\\NowCola\\14\\read_file.py','r')\n",
      "\n",
      "for l in f.readlines():\n",
      "\n",
      "    print(l,end='')\n",
      "\n",
      "f.close()\n",
      "\n",
      "\n"
     ]
    }
   ],
   "source": [
    "f=open(r'D:\\Codes\\NowCoder\\NotesAndCodes\\python\\NowCola\\14\\read_file.py','r')\n",
    "l= f.readline()\n",
    "print(l)\n",
    "l=f.readline()\n",
    "print(l)\n",
    "l=f.readline()\n",
    "print(l)\n",
    "l=f.readline()\n",
    "print(l)\n",
    "l=f.readline()\n",
    "print(l)\n",
    "l=f.readline()\n",
    "print(l)\n",
    "f.close()"
   ]
  },
  {
   "cell_type": "code",
   "execution_count": 12,
   "metadata": {},
   "outputs": [
    {
     "name": "stdout",
     "output_type": "stream",
     "text": [
      "0  0\n",
      "79 f=open(r'D:\\Codes\\NowCoder\\NotesAndCodes\\python\\NowCola\\14\\read_file.py','r')\n",
      " 78\n",
      "104 for l in f.readlines():\n",
      " 24\n",
      "125     print(l,end='')\n",
      " 20\n",
      "134 f.close() 9\n",
      "134  0\n",
      "134  0\n"
     ]
    }
   ],
   "source": [
    "f=open(r'D:\\Codes\\NowCoder\\NotesAndCodes\\python\\NowCola\\14\\read_file.py','r')\n",
    "print(f.tell(),'','0')\n",
    "l= f.readline()\n",
    "print(f.tell(),l,len(l))\n",
    "l=f.readline()\n",
    "print(f.tell(),l,len(l))\n",
    "l=f.readline()\n",
    "print(f.tell(),l,len(l))\n",
    "l=f.readline()\n",
    "print(f.tell(),l,len(l))\n",
    "l=f.readline()\n",
    "print(f.tell(),l,len(l))\n",
    "l=f.readline()\n",
    "print(f.tell(),l,len(l))\n",
    "f.close()"
   ]
  },
  {
   "cell_type": "code",
   "execution_count": 13,
   "metadata": {},
   "outputs": [
    {
     "name": "stdout",
     "output_type": "stream",
     "text": [
      "0  0\n",
      "79 f=open(r'D:\\Codes\\NowCoder\\NotesAndCodes\\python\\NowCola\\14\\read_file.py','r')\n",
      " 78\n",
      "79 wCoder\\NotesAndCodes\\python\\NowCola\\14\\read_file.py','r')\n",
      " 58\n",
      "104 for l in f.readlines():\n",
      " 24\n",
      "125     print(l,end='')\n",
      " 20\n",
      "134 f.close() 9\n",
      "134  0\n"
     ]
    }
   ],
   "source": [
    "f=open(r'D:\\Codes\\NowCoder\\NotesAndCodes\\python\\NowCola\\14\\read_file.py','r')\n",
    "print(f.tell(),'','0')\n",
    "l= f.readline()\n",
    "print(f.tell(),l,len(l))\n",
    "f.seek(20)\n",
    "l=f.readline()\n",
    "print(f.tell(),l,len(l))\n",
    "l=f.readline()\n",
    "print(f.tell(),l,len(l))\n",
    "l=f.readline()\n",
    "print(f.tell(),l,len(l))\n",
    "l=f.readline()\n",
    "print(f.tell(),l,len(l))\n",
    "l=f.readline()\n",
    "print(f.tell(),l,len(l))\n",
    "f.close()"
   ]
  },
  {
   "cell_type": "code",
   "execution_count": 14,
   "metadata": {},
   "outputs": [
    {
     "name": "stdout",
     "output_type": "stream",
     "text": [
      "f=open(r'D:\\Codes\\NowCoder\\NotesAndCodes\\python\\NowCola\\14\\read_file.py','r')\n",
      "for l in f.readlines():\n",
      "    print(l,end='')\n",
      "f.close()"
     ]
    }
   ],
   "source": [
    "with open(r'D:\\Codes\\NowCoder\\NotesAndCodes\\python\\NowCola\\14\\read_file.py','r') as f:\n",
    "    while True:\n",
    "        l=f.readline()\n",
    "        if l=='':\n",
    "            break\n",
    "        print(l,end='')"
   ]
  },
  {
   "cell_type": "code",
   "execution_count": 15,
   "metadata": {},
   "outputs": [
    {
     "name": "stdout",
     "output_type": "stream",
     "text": [
      "Wrote 13 chars\n"
     ]
    }
   ],
   "source": [
    "with open(r'D:\\Codes\\NowCoder\\NotesAndCodes\\python\\NowCola\\14\\write_test.txt','w') as f:\n",
    "    num_chars=f.write('Hello world!\\n')\n",
    "    print('Wrote {} chars'.format(num_chars))"
   ]
  },
  {
   "cell_type": "code",
   "execution_count": 17,
   "metadata": {},
   "outputs": [],
   "source": [
    "line_list = ['line 1 \\n','line 2 \\n','line 3 \\n',]\n",
    "f= open(r'D:\\Codes\\NowCoder\\NotesAndCodes\\python\\NowCola\\14\\writelines_test.txt','w') \n",
    "f.writelines(line_list)\n",
    "\n",
    "    \n"
   ]
  },
  {
   "cell_type": "code",
   "execution_count": 18,
   "metadata": {},
   "outputs": [],
   "source": [
    "line_list = ['line 1 \\n','line 2 \\n','line 3 \\n',]\n",
    "f= open(r'D:\\Codes\\NowCoder\\NotesAndCodes\\python\\NowCola\\14\\writelines_test.txt','w') \n",
    "f.writelines(line_list)\n",
    "f.flush()\n",
    "f.close()"
   ]
  },
  {
   "cell_type": "code",
   "execution_count": 19,
   "metadata": {},
   "outputs": [],
   "source": [
    "line_list = ['line 1 \\n','line 2 \\n','line 3 \\n',]\n",
    "with open(r'D:\\Codes\\NowCoder\\NotesAndCodes\\python\\NowCola\\14\\writelines_test.txt','w') as f:\n",
    "    f.writelines(line_list)\n",
    "    \n",
    "    "
   ]
  },
  {
   "cell_type": "code",
   "execution_count": 20,
   "metadata": {},
   "outputs": [
    {
     "ename": "FileNotFoundError",
     "evalue": "[Errno 2] No such file or directory: 'D:\\\\Codes\\\\NowCoder\\\\NotesAndCodes\\\\python\\\\NowCola\\\\14\\\\not_exists.txt'",
     "output_type": "error",
     "traceback": [
      "\u001b[1;31m---------------------------------------------------------------------------\u001b[0m",
      "\u001b[1;31mFileNotFoundError\u001b[0m                         Traceback (most recent call last)",
      "\u001b[1;32m<ipython-input-20-34e0da8b3f2d>\u001b[0m in \u001b[0;36m<module>\u001b[1;34m()\u001b[0m\n\u001b[1;32m----> 1\u001b[1;33m \u001b[0mf\u001b[0m\u001b[1;33m=\u001b[0m\u001b[0mopen\u001b[0m\u001b[1;33m(\u001b[0m\u001b[1;34mr'D:\\Codes\\NowCoder\\NotesAndCodes\\python\\NowCola\\14\\not_exists.txt'\u001b[0m\u001b[1;33m,\u001b[0m\u001b[1;34m'r'\u001b[0m\u001b[1;33m)\u001b[0m\u001b[1;33m\u001b[0m\u001b[0m\n\u001b[0m",
      "\u001b[1;31mFileNotFoundError\u001b[0m: [Errno 2] No such file or directory: 'D:\\\\Codes\\\\NowCoder\\\\NotesAndCodes\\\\python\\\\NowCola\\\\14\\\\not_exists.txt'"
     ]
    }
   ],
   "source": [
    "f=open(r'D:\\Codes\\NowCoder\\NotesAndCodes\\python\\NowCola\\14\\not_exists.txt','r')\n",
    "# FileNotFoundError: [Errno 2] No such file or directory: 'D:\\\\Codes\\\\NowCoder\\\\NotesAndCodes\\\\python\\\\NowCola\\\\14\\\\not_exists.txt'\n"
   ]
  },
  {
   "cell_type": "code",
   "execution_count": 21,
   "metadata": {},
   "outputs": [],
   "source": [
    "f=open(r'D:\\Codes\\NowCoder\\NotesAndCodes\\python\\NowCola\\14\\not_exists.txt','w')\n"
   ]
  },
  {
   "cell_type": "code",
   "execution_count": 22,
   "metadata": {},
   "outputs": [
    {
     "ename": "FileNotFoundError",
     "evalue": "[Errno 2] No such file or directory: 'D:\\\\Codes\\\\NowCoder\\\\NotesAndCodes\\\\python\\\\NowCola\\\\14\\\\end_of_the_universe\\\\dinner.txt'",
     "output_type": "error",
     "traceback": [
      "\u001b[1;31m---------------------------------------------------------------------------\u001b[0m",
      "\u001b[1;31mFileNotFoundError\u001b[0m                         Traceback (most recent call last)",
      "\u001b[1;32m<ipython-input-22-75e52a6a77c2>\u001b[0m in \u001b[0;36m<module>\u001b[1;34m()\u001b[0m\n\u001b[1;32m----> 1\u001b[1;33m \u001b[0mf\u001b[0m\u001b[1;33m=\u001b[0m\u001b[0mopen\u001b[0m\u001b[1;33m(\u001b[0m\u001b[1;34mr'D:\\Codes\\NowCoder\\NotesAndCodes\\python\\NowCola\\14\\end_of_the_universe\\dinner.txt'\u001b[0m\u001b[1;33m,\u001b[0m\u001b[1;34m'w'\u001b[0m\u001b[1;33m)\u001b[0m\u001b[1;33m\u001b[0m\u001b[0m\n\u001b[0m",
      "\u001b[1;31mFileNotFoundError\u001b[0m: [Errno 2] No such file or directory: 'D:\\\\Codes\\\\NowCoder\\\\NotesAndCodes\\\\python\\\\NowCola\\\\14\\\\end_of_the_universe\\\\dinner.txt'"
     ]
    }
   ],
   "source": [
    "f=open(r'D:\\Codes\\NowCoder\\NotesAndCodes\\python\\NowCola\\14\\end_of_the_universe\\dinner.txt','w')\n",
    "# FileNotFoundError: [Errno 2] No such file or directory: 'D:\\\\Codes\\\\NowCoder\\\\NotesAndCodes\\\\python\\\\NowCola\\\\14\\\\end_of_the_universe\\\\dinner.txt'\n"
   ]
  },
  {
   "cell_type": "code",
   "execution_count": 28,
   "metadata": {},
   "outputs": [],
   "source": [
    "import os \n",
    "# 结尾使用\\\\来避免语义错误\n",
    "if False==os.path.exists(r'D:\\Codes\\NowCoder\\NotesAndCodes\\python\\NowCola\\14\\end_of_the_universe\\\\'):\n",
    "    os.makedirs(r'D:\\Codes\\NowCoder\\NotesAndCodes\\python\\NowCola\\14\\end_of_the_universe\\\\')"
   ]
  },
  {
   "cell_type": "code",
   "execution_count": 29,
   "metadata": {},
   "outputs": [],
   "source": [
    "    os.makedirs(r'D:\\Codes\\NowCoder\\NotesAndCodes\\python\\NowCola\\14\\end_of_the_universe\\\\',exist_ok=True)"
   ]
  },
  {
   "cell_type": "code",
   "execution_count": null,
   "metadata": {},
   "outputs": [],
   "source": []
  }
 ],
 "metadata": {
  "kernelspec": {
   "display_name": "Python 3",
   "language": "python",
   "name": "python3"
  },
  "language_info": {
   "codemirror_mode": {
    "name": "ipython",
    "version": 3
   },
   "file_extension": ".py",
   "mimetype": "text/x-python",
   "name": "python",
   "nbconvert_exporter": "python",
   "pygments_lexer": "ipython3",
   "version": "3.7.0"
  }
 },
 "nbformat": 4,
 "nbformat_minor": 2
}
