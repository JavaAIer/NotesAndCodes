{
 "cells": [
  {
   "cell_type": "code",
   "execution_count": 1,
   "metadata": {},
   "outputs": [
    {
     "name": "stdout",
     "output_type": "stream",
     "text": [
      "4\n"
     ]
    }
   ],
   "source": [
    "x=2\n",
    "x=4\n",
    "print(x)"
   ]
  },
  {
   "cell_type": "code",
   "execution_count": 13,
   "metadata": {},
   "outputs": [
    {
     "name": "stdout",
     "output_type": "stream",
     "text": [
      "<class 'list'>\n",
      "['father', 'mother', 'brother', 'sister']\n",
      "[1, 3.14, 'hello', ['a', 'b']]\n",
      "1\n",
      "3.14\n",
      "l\n",
      "[100, 3.14, 'hello', ['a', 'b']]\n",
      "[100, 3.14, 'hello', ['a', 'b'], 'cole Code']\n",
      "[100, 3.14, 'hello', ['a', 'b'], 'cole Code', 100]\n",
      "[100, 3.14, 'hello', ['a', 'b'], 'cole Code', 100, [1, 2, 3]]\n",
      "7\n",
      "[1, 2, 3]\n",
      "[1, 2, 3]\n",
      "[100, 'book', 3.14, 'hello', ['a', 'b'], 'cole Code', 100, [1, 2, 3]]\n"
     ]
    }
   ],
   "source": [
    "family = ['father','mother','brother','sister']\n",
    "print(type(family))\n",
    "print(family)\n",
    "x=[1,3.14,\"hello\",['a','b']]\n",
    "print(x)\n",
    "print(x[0])\n",
    "print(x[1])\n",
    "print(x[2][2])\n",
    "x[0]=100\n",
    "print(x)\n",
    "x.append(\"cole Code\")\n",
    "print(x)\n",
    "a=\"Cole Code\"\n",
    "#a[0]=\"c\" TypeError: 'str' object does not support item assignment\n",
    "x.append(100)\n",
    "print(x)\n",
    "x.append([1,2,3])\n",
    "print(x)\n",
    "print(len(x))\n",
    "print(x[len(x)-1])\n",
    "print(x[-1])\n",
    "x.insert(1,'book')\n",
    "print(x)"
   ]
  },
  {
   "cell_type": "code",
   "execution_count": 20,
   "metadata": {},
   "outputs": [
    {
     "name": "stdout",
     "output_type": "stream",
     "text": [
      "[100, 'book', 3.14, 'hello', ['a', 'b'], 'cole Code', 100, [1, 2, 3], 'Tom', 'Jerry']\n",
      "Jerry\n",
      "[100, 'book', 3.14, 'hello', ['a', 'b'], 'cole Code', 100, [1, 2, 3], 'Tom']\n",
      "[100, 'book', 'hello', ['a', 'b'], 'cole Code', 100, [1, 2, 3], 'Tom']\n",
      "[100, 'hello', ['a', 'b'], 'cole Code', 100, [1, 2, 3], 'Tom']\n"
     ]
    }
   ],
   "source": [
    "x=[100, 'book', 3.14, 'hello', ['a', 'b'], 'cole Code', 100, [1, 2, 3]]\n",
    "y=['Tom','Jerry']\n",
    "x.extend(y)\n",
    "print(x)\n",
    "b=x.pop()\n",
    "print(b)\n",
    "print(x)\n",
    "x.remove(3.14)\n",
    "print(x)\n",
    "# x.remove(3.14)ValueError: list.remove(x): x not in list\n",
    "del x[1]\n",
    "print(x)"
   ]
  },
  {
   "cell_type": "code",
   "execution_count": 22,
   "metadata": {},
   "outputs": [
    {
     "name": "stdout",
     "output_type": "stream",
     "text": [
      "2\n",
      "4\n",
      "6\n",
      "8\n",
      "10\n",
      "12\n",
      "14\n",
      "16\n",
      "18\n",
      "2\n",
      "4\n",
      "6\n",
      "8\n",
      "10\n",
      "12\n",
      "14\n",
      "16\n",
      "18\n"
     ]
    }
   ],
   "source": [
    "a = [1,2,3,4,5,6,7,8,9]\n",
    "for i in a :\n",
    "    print(i*2)\n",
    "for i in range(len(a)):\n",
    "    print(a[i]*2)"
   ]
  },
  {
   "cell_type": "code",
   "execution_count": 38,
   "metadata": {},
   "outputs": [
    {
     "name": "stdout",
     "output_type": "stream",
     "text": [
      "0 0 1\n",
      "0 1 2\n",
      "0 2 3\n",
      "1 0 1\n",
      "1 1 2\n",
      "1 2 3\n",
      "2 0 1\n",
      "2 1 2\n",
      "2 2 3\n",
      "True\n",
      "0\n",
      "3\n",
      "[1, 2, 3]\n",
      "[1, 2, 3]\n",
      "[2, 3, 4, 5, 6, 7, 8]\n",
      "[2, 3, 4, 5, 6, 7, 8, 9]\n",
      "[1, 2, 3, 4, 5, 6, 7, 8, 9, 1, 2, 3]\n",
      "[1, 2, 3, 1, 2, 3, 1, 2, 3]\n"
     ]
    }
   ],
   "source": [
    "a=[[1,2,3],[1,2,3],[1,2,3]]\n",
    "for i in range(len(a)):\n",
    "    for j in range( len(a[i])):\n",
    "        print(i,j,a[i][j])\n",
    "print([1,2,3] in a )\n",
    "print(a.index([1,2,3]))\n",
    "# print(a.index(\"tom\")) ValueError: 'tom' is not in list\n",
    "print(a.count([1,2,3]))\n",
    "a=[1,2,3,4,5,6,7,8,9]\n",
    "b=[a[0],a[1],a[2]]\n",
    "print(b)\n",
    "c=a[0:3]\n",
    "print(c)\n",
    "print(a[1:-1])\n",
    "print(a[1:])\n",
    "print(a+b)\n",
    "print(3*b)"
   ]
  },
  {
   "cell_type": "code",
   "execution_count": 39,
   "metadata": {},
   "outputs": [
    {
     "name": "stdout",
     "output_type": "stream",
     "text": [
      "请输入计算质数的范围：20\n",
      "2\n",
      "3\n",
      "5\n",
      "7\n",
      "11\n",
      "13\n",
      "17\n",
      "19\n"
     ]
    }
   ],
   "source": [
    "import math\n",
    "\n",
    "#计算质数：一个质数只有1和其本身能够将其整除\n",
    "cal_range = int(input('请输入计算质数的范围：'))\n",
    "prime_nums = []\n",
    "\n",
    "for i in range(cal_range+1):\n",
    "    if i == 0 or i == 1:\n",
    "        continue\n",
    "\n",
    "    num = 2\n",
    "    while num <= math.sqrt(i):\n",
    "        if i % num == 0:\n",
    "            break\n",
    "        else:\n",
    "            num += 1\n",
    "\n",
    "    if num > math.sqrt(i):\n",
    "        prime_nums.append(i)\n",
    "\n",
    "for i in prime_nums:\n",
    "    print(i)"
   ]
  },
  {
   "cell_type": "code",
   "execution_count": 40,
   "metadata": {},
   "outputs": [
    {
     "name": "stdout",
     "output_type": "stream",
     "text": [
      "最高分： 98\n",
      "最低分： 43\n",
      "平均分： 69.28\n"
     ]
    }
   ],
   "source": [
    "scores = [57, 49, 85, 67, 50, 54, 83, 95, 94, 84, 74, 70, 63, 45,\n",
    "          76, 60, 89, 59, 73, 77, 54, 54, 63, 91, 97, 71, 62, 96,\n",
    "          66, 66, 87, 81, 60, 98, 58, 78, 43, 71, 68, 58, 74, 98,\n",
    "          77, 67, 75, 57, 49, 44, 54, 43]\n",
    "\n",
    "min_score = 101\n",
    "max_score = 0\n",
    "sum_score = 0\n",
    "\n",
    "for i in scores:\n",
    "    if i < min_score:\n",
    "        min_score = i\n",
    "    if i > max_score:\n",
    "        max_score = i\n",
    "    sum_score += i\n",
    "\n",
    "print(\"最高分：\", max_score)\n",
    "print(\"最低分：\", min_score)\n",
    "print(\"平均分：\", sum_score/len(scores))"
   ]
  },
  {
   "cell_type": "code",
   "execution_count": 41,
   "metadata": {},
   "outputs": [
    {
     "name": "stdout",
     "output_type": "stream",
     "text": [
      "最高分： 98\n",
      "最低分： 43\n",
      "平均分： 69.28\n"
     ]
    }
   ],
   "source": [
    "scores = [57, 49, 85, 67, 50, 54, 83, 95, 94, 84, 74, 70, 63, 45,\n",
    "          76, 60, 89, 59, 73, 77, 54, 54, 63, 91, 97, 71, 62, 96,\n",
    "          66, 66, 87, 81, 60, 98, 58, 78, 43, 71, 68, 58, 74, 98,\n",
    "          77, 67, 75, 57, 49, 44, 54, 43]\n",
    "\n",
    "print(\"最高分：\", max(scores))\n",
    "print(\"最低分：\", min(scores))\n",
    "print(\"平均分：\", sum(scores)/len(scores))"
   ]
  },
  {
   "cell_type": "code",
   "execution_count": 42,
   "metadata": {},
   "outputs": [
    {
     "ename": "TypeError",
     "evalue": "'>' not supported between instances of 'str' and 'int'",
     "output_type": "error",
     "traceback": [
      "\u001b[1;31m---------------------------------------------------------------------------\u001b[0m",
      "\u001b[1;31mTypeError\u001b[0m                                 Traceback (most recent call last)",
      "\u001b[1;32m<ipython-input-42-7a65904af3f8>\u001b[0m in \u001b[0;36m<module>\u001b[1;34m()\u001b[0m\n\u001b[0;32m      1\u001b[0m \u001b[0ma\u001b[0m\u001b[1;33m=\u001b[0m\u001b[1;33m[\u001b[0m\u001b[1;36m1\u001b[0m\u001b[1;33m,\u001b[0m\u001b[1;36m2\u001b[0m\u001b[1;33m,\u001b[0m\u001b[1;36m3\u001b[0m\u001b[1;33m,\u001b[0m\u001b[1;34m\"Hello\"\u001b[0m\u001b[1;33m]\u001b[0m\u001b[1;33m\u001b[0m\u001b[0m\n\u001b[1;32m----> 2\u001b[1;33m \u001b[0mprint\u001b[0m\u001b[1;33m(\u001b[0m\u001b[0mmax\u001b[0m\u001b[1;33m(\u001b[0m\u001b[0ma\u001b[0m\u001b[1;33m)\u001b[0m\u001b[1;33m)\u001b[0m\u001b[1;33m\u001b[0m\u001b[0m\n\u001b[0m",
      "\u001b[1;31mTypeError\u001b[0m: '>' not supported between instances of 'str' and 'int'"
     ]
    }
   ],
   "source": [
    "a=[1,2,3,\"Hello\"]\n",
    "# print(max(a)) TypeError: '>' not supported between instances of 'str' and 'int'\n"
   ]
  },
  {
   "cell_type": "code",
   "execution_count": 45,
   "metadata": {},
   "outputs": [
    {
     "name": "stdout",
     "output_type": "stream",
     "text": [
      "[43, 43, 44, 45, 49, 49, 50, 54, 54, 54, 54, 57, 57, 58, 58, 59, 60, 60, 62, 63, 63, 66, 66, 67, 67, 68, 70, 71, 71, 73, 74, 74, 75, 76, 77, 77, 78, 81, 83, 84, 85, 87, 89, 91, 94, 95, 96, 97, 98, 98]\n",
      "[98, 98, 97, 96, 95, 94, 91, 89, 87, 85, 84, 83, 81, 78, 77, 77, 76, 75, 74, 74, 73, 71, 71, 70, 68, 67, 67, 66, 66, 63, 63, 62, 60, 60, 59, 58, 58, 57, 57, 54, 54, 54, 54, 50, 49, 49, 45, 44, 43, 43]\n"
     ]
    }
   ],
   "source": [
    "scores = [57, 49, 85, 67, 50, 54, 83, 95, 94, 84, 74, 70, 63, 45,\n",
    "          76, 60, 89, 59, 73, 77, 54, 54, 63, 91, 97, 71, 62, 96,\n",
    "          66, 66, 87, 81, 60, 98, 58, 78, 43, 71, 68, 58, 74, 98,\n",
    "          77, 67, 75, 57, 49, 44, 54, 43]\n",
    "scores.sort()\n",
    "print(scores)\n",
    "scores.reverse()\n",
    "print(scores)"
   ]
  },
  {
   "cell_type": "code",
   "execution_count": 46,
   "metadata": {},
   "outputs": [
    {
     "name": "stdout",
     "output_type": "stream",
     "text": [
      "[57, 49, 50, 54, 45, 59, 54, 54, 58, 43, 58, 57, 49, 44, 54, 43]\n"
     ]
    }
   ],
   "source": [
    "scores = [57, 49, 85, 67, 50, 54, 83, 95, 94, 84, 74, 70, 63, 45,\n",
    "          76, 60, 89, 59, 73, 77, 54, 54, 63, 91, 97, 71, 62, 96,\n",
    "          66, 66, 87, 81, 60, 98, 58, 78, 43, 71, 68, 58, 74, 98,\n",
    "          77, 67, 75, 57, 49, 44, 54, 43]\n",
    "unpassed_scores=[]\n",
    "for i in scores:\n",
    "    if i<60:\n",
    "        unpassed_scores.append(i)\n",
    "print(unpassed_scores)"
   ]
  },
  {
   "cell_type": "code",
   "execution_count": 47,
   "metadata": {},
   "outputs": [
    {
     "name": "stdout",
     "output_type": "stream",
     "text": [
      "[57, 49, 50, 54, 45, 59, 54, 54, 58, 43, 58, 57, 49, 44, 54, 43]\n"
     ]
    }
   ],
   "source": [
    "#列表推导式\n",
    "scores = [57, 49, 85, 67, 50, 54, 83, 95, 94, 84, 74, 70, 63, 45,\n",
    "          76, 60, 89, 59, 73, 77, 54, 54, 63, 91, 97, 71, 62, 96,\n",
    "          66, 66, 87, 81, 60, 98, 58, 78, 43, 71, 68, 58, 74, 98,\n",
    "          77, 67, 75, 57, 49, 44, 54, 43]\n",
    "unpassed_scores=[i for i in scores if  i < 60]\n",
    "print(unpassed_scores)"
   ]
  },
  {
   "cell_type": "code",
   "execution_count": 48,
   "metadata": {},
   "outputs": [
    {
     "name": "stdout",
     "output_type": "stream",
     "text": [
      "[1, 4, 9, 16, 25, 36, 49, 64, 81, 100]\n"
     ]
    }
   ],
   "source": [
    "x=[1,2,3,4,5,6,7,8,9,10]\n",
    "print([i*i for i in x])"
   ]
  },
  {
   "cell_type": "code",
   "execution_count": 52,
   "metadata": {},
   "outputs": [
    {
     "name": "stdout",
     "output_type": "stream",
     "text": [
      "['1', '2', '3', '4', '5', '6', '7', '8', '9', '10']\n",
      "[1, 2, 3, 4, 5, 6, 7, 8, 9, 10]\n",
      "1-2-3-4-5-6-7-8-9-10\n"
     ]
    }
   ],
   "source": [
    "x=\"1,2,3,4,5,6,7,8,9,10\"\n",
    "x1=x.split(\",\")\n",
    "print(x1)\n",
    "nl=[int(i) for i in x1 ]\n",
    "print(nl)\n",
    "print('-'.join(x1))"
   ]
  },
  {
   "cell_type": "code",
   "execution_count": null,
   "metadata": {},
   "outputs": [],
   "source": []
  }
 ],
 "metadata": {
  "kernelspec": {
   "display_name": "Python 3",
   "language": "python",
   "name": "python3"
  },
  "language_info": {
   "codemirror_mode": {
    "name": "ipython",
    "version": 3
   },
   "file_extension": ".py",
   "mimetype": "text/x-python",
   "name": "python",
   "nbconvert_exporter": "python",
   "pygments_lexer": "ipython3",
   "version": "3.7.0"
  }
 },
 "nbformat": 4,
 "nbformat_minor": 2
}
