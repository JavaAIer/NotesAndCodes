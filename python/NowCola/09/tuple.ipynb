{
 "cells": [
  {
   "cell_type": "code",
   "execution_count": 3,
   "metadata": {},
   "outputs": [
    {
     "name": "stdout",
     "output_type": "stream",
     "text": [
      "[1, 2, 3, 4, 5]\n",
      "[1, 2, 3, 4, 6]\n",
      "[1, 2, 3, 4, 6]\n",
      "2750299129992\n",
      "2750299129992\n",
      "[1, 2, 3, 4, 6]\n"
     ]
    }
   ],
   "source": [
    "x1 = [1,2,3,4,5]\n",
    "x2=x1\n",
    "print(x2)\n",
    "x2.append(6)\n",
    "x2.remove(5)\n",
    "print(x2)\n",
    "print(x1)\n",
    "print(id(x1))\n",
    "print(id(x2))\n"
   ]
  },
  {
   "cell_type": "code",
   "execution_count": 4,
   "metadata": {},
   "outputs": [
    {
     "name": "stdout",
     "output_type": "stream",
     "text": [
      "[1, 2, 3, 4, 5]\n",
      "[1, 2, 3, 4, 6]\n",
      "[1, 2, 3, 4, 5]\n"
     ]
    }
   ],
   "source": [
    "x1 = [1,2,3,4,5]\n",
    "x2=x1[:]\n",
    "print(x2)\n",
    "x2.append(6)\n",
    "x2.remove(5)\n",
    "print(x2)\n",
    "print(x1)"
   ]
  },
  {
   "cell_type": "code",
   "execution_count": 11,
   "metadata": {},
   "outputs": [
    {
     "name": "stdout",
     "output_type": "stream",
     "text": [
      "ok\n",
      "(4, 'ok')\n",
      "10\n",
      "1\n",
      "55\n"
     ]
    }
   ],
   "source": [
    "x=(1,2,4,\"ok\",\"yes\",[1,2,3])\n",
    "print(x[3])\n",
    "print(x[2:4])\n",
    "y=(1,2,3,4,5,6,7,8,9,10)\n",
    "print(max(y))\n",
    "print(min(y))\n",
    "print(sum(y))\n",
    "# y[0]=100 TypeError: 'tuple' object does not support item assignment\n",
    "# y.insert(1,100) AttributeError: 'tuple' object has no attribute 'insert'\n",
    "# del y[2] TypeError: 'tuple' object doesn't support item deletion\n",
    "\n"
   ]
  },
  {
   "cell_type": "code",
   "execution_count": 12,
   "metadata": {},
   "outputs": [
    {
     "name": "stdout",
     "output_type": "stream",
     "text": [
      "[1, 2, 3, 4, 5, 6, 7, 8, 9, 10]\n",
      "(1, 2, 3, 4, 5, 6, 7, 8, 9, 10)\n"
     ]
    }
   ],
   "source": [
    "y=(1,2,3,4,5,6,7,8,9,10)\n",
    "z=list(y)\n",
    "print(z)\n",
    "zz=tuple(z)\n",
    "print(zz)"
   ]
  },
  {
   "cell_type": "code",
   "execution_count": 14,
   "metadata": {},
   "outputs": [
    {
     "name": "stdout",
     "output_type": "stream",
     "text": [
      "0.11643996999998762\n",
      "0.017566831000067396\n"
     ]
    }
   ],
   "source": [
    "import timeit\n",
    "print(timeit.timeit('x=[1,2,3,4,5,6,7,8,9,10]'))\n",
    "print(timeit.timeit('y=(1,2,3,4,5,6,7,8,9,10)'))"
   ]
  },
  {
   "cell_type": "code",
   "execution_count": null,
   "metadata": {},
   "outputs": [],
   "source": []
  }
 ],
 "metadata": {
  "kernelspec": {
   "display_name": "Python 3",
   "language": "python",
   "name": "python3"
  },
  "language_info": {
   "codemirror_mode": {
    "name": "ipython",
    "version": 3
   },
   "file_extension": ".py",
   "mimetype": "text/x-python",
   "name": "python",
   "nbconvert_exporter": "python",
   "pygments_lexer": "ipython3",
   "version": "3.7.0"
  }
 },
 "nbformat": 4,
 "nbformat_minor": 2
}
