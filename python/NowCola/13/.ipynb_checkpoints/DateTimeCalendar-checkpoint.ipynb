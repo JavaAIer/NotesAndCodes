{
 "cells": [
  {
   "cell_type": "code",
   "execution_count": 4,
   "metadata": {},
   "outputs": [
    {
     "name": "stdout",
     "output_type": "stream",
     "text": [
      "1543466700.9393046\n",
      "time.struct_time(tm_year=2018, tm_mon=11, tm_mday=29, tm_hour=12, tm_min=45, tm_sec=0, tm_wday=3, tm_yday=333, tm_isdst=0)\n",
      "time.struct_time(tm_year=1970, tm_mon=1, tm_mday=1, tm_hour=8, tm_min=0, tm_sec=0, tm_wday=3, tm_yday=1, tm_isdst=0)\n"
     ]
    }
   ],
   "source": [
    "import time\n",
    "# 返回时间戳 自公元1970年1月1日0：00：00到现在总共经历的秒数\n",
    "print(time.time())\n",
    "# 结构体时间\n",
    "print(time.localtime())\n",
    "print(time.localtime(0))"
   ]
  },
  {
   "cell_type": "code",
   "execution_count": 7,
   "metadata": {},
   "outputs": [
    {
     "name": "stdout",
     "output_type": "stream",
     "text": [
      "time.struct_time(tm_year=2018, tm_mon=11, tm_mday=29, tm_hour=12, tm_min=45, tm_sec=0, tm_wday=3, tm_yday=333, tm_isdst=0)\n",
      "Thu Nov 29 12:45PM 2018\n",
      "time.struct_time(tm_year=2018, tm_mon=11, tm_mday=29, tm_hour=12, tm_min=45, tm_sec=0, tm_wday=3, tm_yday=333, tm_isdst=-1)\n"
     ]
    }
   ],
   "source": [
    "t=time.localtime(1543466700.9393046)\n",
    "print(t)\n",
    "s=time.strftime(\"%a %b %d %I:%M%p %Y\",t)\n",
    "print(s)\n",
    "tt = time.strptime(s,\"%a %b %d %I:%M%p %Y\")\n",
    "print(tt)"
   ]
  },
  {
   "cell_type": "code",
   "execution_count": 13,
   "metadata": {},
   "outputs": [
    {
     "name": "stdout",
     "output_type": "stream",
     "text": [
      "2018-11-29\n",
      "2018-11-29\n",
      "2018-03-30\n",
      "2018 3 30\n",
      "time.struct_time(tm_year=2018, tm_mon=3, tm_mday=30, tm_hour=0, tm_min=0, tm_sec=0, tm_wday=4, tm_yday=89, tm_isdst=-1)\n"
     ]
    }
   ],
   "source": [
    "import datetime\n",
    "print(datetime.date.today())\n",
    "from datetime import date\n",
    "print(date.today())\n",
    "d=date(2018,3,30)\n",
    "print(d)\n",
    "print(d.year,d.month,d.day)\n"
   ]
  },
  {
   "cell_type": "code",
   "execution_count": 15,
   "metadata": {},
   "outputs": [
    {
     "name": "stdout",
     "output_type": "stream",
     "text": [
      "time.struct_time(tm_year=2018, tm_mon=3, tm_mday=30, tm_hour=0, tm_min=0, tm_sec=0, tm_wday=4, tm_yday=89, tm_isdst=-1)\n",
      "1543468100.7509508\n",
      "2018-11-29\n"
     ]
    }
   ],
   "source": [
    "import time\n",
    "from datetime import date\n",
    "d=date(2018,3,30)\n",
    "print(d.timetuple())\n",
    "ts= time.time()\n",
    "dd = date.fromtimestamp(ts)\n",
    "print(ts)\n",
    "print(dd)"
   ]
  },
  {
   "cell_type": "code",
   "execution_count": 17,
   "metadata": {},
   "outputs": [
    {
     "name": "stdout",
     "output_type": "stream",
     "text": [
      "10:24:05.000012\n",
      "10 24 5 12\n"
     ]
    }
   ],
   "source": [
    "from datetime import time\n",
    "t = time(10,24,5,12)\n",
    "print(t)\n",
    "print(t.hour,t.minute,t.second,t.microsecond)\n"
   ]
  },
  {
   "cell_type": "code",
   "execution_count": 23,
   "metadata": {},
   "outputs": [
    {
     "name": "stdout",
     "output_type": "stream",
     "text": [
      "2018-11-29 13:19:58.885801\n",
      "2018-11-29 13:19:58.885801 2018-03-30 10:24:05.000012\n",
      "2018-03-30 10:24:05.000012\n",
      "<class 'datetime.timedelta'> 244 days, 2:55:53.885789\n",
      "244 10553 885789\n"
     ]
    }
   ],
   "source": [
    "from datetime import datetime\n",
    "print(datetime.now())\n",
    "d1= datetime.now()\n",
    "print(d1,d,t)\n",
    "d2=datetime.combine(d,t)\n",
    "print(d2)\n",
    "td= d1-d2\n",
    "print(type(td),td)\n",
    "print(td.days,td.seconds,td.microseconds)"
   ]
  },
  {
   "cell_type": "code",
   "execution_count": 26,
   "metadata": {},
   "outputs": [
    {
     "name": "stdout",
     "output_type": "stream",
     "text": [
      "7 days, 0:00:00\n",
      "1 day, 12:00:00\n",
      "1 day, 12:00:00\n"
     ]
    }
   ],
   "source": [
    "from datetime import timedelta\n",
    "print(timedelta(weeks=1))\n",
    "print(timedelta(days=1,hours=12))\n",
    "print(timedelta(days=1.5))\n"
   ]
  },
  {
   "cell_type": "code",
   "execution_count": 27,
   "metadata": {},
   "outputs": [
    {
     "name": "stdout",
     "output_type": "stream",
     "text": [
      "2018-11-30 13:25:28.411084\n"
     ]
    }
   ],
   "source": [
    "from datetime import timedelta\n",
    "today = datetime.now()\n",
    "tomorrow=today+timedelta(days=1)\n",
    "print(tomorrow)"
   ]
  },
  {
   "cell_type": "code",
   "execution_count": 31,
   "metadata": {},
   "outputs": [
    {
     "data": {
      "text/plain": [
       "(3, 31)"
      ]
     },
     "execution_count": 31,
     "metadata": {},
     "output_type": "execute_result"
    }
   ],
   "source": [
    "import calendar\n",
    "calendar.weekday(year=2018,month=11,day=28)\n",
    "calendar.isleap(2018)\n",
    "calendar.monthrange(year=2018,month=3)"
   ]
  },
  {
   "cell_type": "code",
   "execution_count": null,
   "metadata": {},
   "outputs": [],
   "source": []
  }
 ],
 "metadata": {
  "kernelspec": {
   "display_name": "Python 3",
   "language": "python",
   "name": "python3"
  },
  "language_info": {
   "codemirror_mode": {
    "name": "ipython",
    "version": 3
   },
   "file_extension": ".py",
   "mimetype": "text/x-python",
   "name": "python",
   "nbconvert_exporter": "python",
   "pygments_lexer": "ipython3",
   "version": "3.7.0"
  }
 },
 "nbformat": 4,
 "nbformat_minor": 2
}
