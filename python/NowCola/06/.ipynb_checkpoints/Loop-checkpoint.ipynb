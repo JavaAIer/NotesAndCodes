{
 "cells": [
  {
   "cell_type": "code",
   "execution_count": 1,
   "metadata": {},
   "outputs": [
    {
     "name": "stdout",
     "output_type": "stream",
     "text": [
      "5050\n"
     ]
    }
   ],
   "source": [
    "x=1\n",
    "total = 0\n",
    "while x<= 100:\n",
    "    total +=x\n",
    "    x+=1\n",
    "print(total)"
   ]
  },
  {
   "cell_type": "code",
   "execution_count": 2,
   "metadata": {},
   "outputs": [
    {
     "name": "stdout",
     "output_type": "stream",
     "text": [
      "101\n",
      "5050\n"
     ]
    }
   ],
   "source": [
    "x=1\n",
    "total = 0\n",
    "while x<= 100:\n",
    "    total +=x\n",
    "    x+=1\n",
    "else:\n",
    "    print(x)\n",
    "print(total)"
   ]
  },
  {
   "cell_type": "code",
   "execution_count": 3,
   "metadata": {},
   "outputs": [
    {
     "name": "stdout",
     "output_type": "stream",
     "text": [
      "1683\n"
     ]
    }
   ],
   "source": [
    "x=1\n",
    "total = 0 \n",
    "while True:\n",
    "    if x > 100 :\n",
    "        break\n",
    "    if x%3!=0:\n",
    "        x+=1\n",
    "        continue\n",
    "    total+=x\n",
    "    x+=1\n",
    "print (total )"
   ]
  },
  {
   "cell_type": "code",
   "execution_count": 5,
   "metadata": {},
   "outputs": [
    {
     "name": "stdout",
     "output_type": "stream",
     "text": [
      "9\n"
     ]
    }
   ],
   "source": [
    "largest = 0 \n",
    "counts = [1,5,7,2,4,9,3,3,6]\n",
    "for x in counts:\n",
    "    if x> largest:\n",
    "        largest=x\n",
    "print(largest)"
   ]
  },
  {
   "cell_type": "code",
   "execution_count": 6,
   "metadata": {},
   "outputs": [
    {
     "name": "stdout",
     "output_type": "stream",
     "text": [
      "5050\n"
     ]
    }
   ],
   "source": [
    "total = 0 \n",
    "for x in range(1,101):\n",
    "    total+=x\n",
    "print (total)"
   ]
  },
  {
   "cell_type": "code",
   "execution_count": 7,
   "metadata": {},
   "outputs": [
    {
     "name": "stdout",
     "output_type": "stream",
     "text": [
      "存在相同字符，下标2和8\n"
     ]
    }
   ],
   "source": [
    "s= \"Don't panic!\"\n",
    "for i in range(0,len(s)-1):\n",
    "    for j in range(i+1,len(s)):\n",
    "        if s[i]==s[j]:\n",
    "            print('存在相同字符，下标{}和{}'.format(i,j))"
   ]
  },
  {
   "cell_type": "code",
   "execution_count": null,
   "metadata": {},
   "outputs": [],
   "source": []
  }
 ],
 "metadata": {
  "kernelspec": {
   "display_name": "Python 3",
   "language": "python",
   "name": "python3"
  },
  "language_info": {
   "codemirror_mode": {
    "name": "ipython",
    "version": 3
   },
   "file_extension": ".py",
   "mimetype": "text/x-python",
   "name": "python",
   "nbconvert_exporter": "python",
   "pygments_lexer": "ipython3",
   "version": "3.7.0"
  }
 },
 "nbformat": 4,
 "nbformat_minor": 2
}
