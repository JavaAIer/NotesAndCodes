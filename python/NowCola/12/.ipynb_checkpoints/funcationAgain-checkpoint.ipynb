{
 "cells": [
  {
   "cell_type": "code",
   "execution_count": null,
   "metadata": {},
   "outputs": [],
   "source": [
    "print(\"hello world\")\n",
    "print(\"hello world\",2018,2019)"
   ]
  },
  {
   "cell_type": "code",
   "execution_count": 3,
   "metadata": {},
   "outputs": [
    {
     "name": "stdout",
     "output_type": "stream",
     "text": [
      "(1, 2, 3)\n"
     ]
    }
   ],
   "source": [
    "def test_collect(* params):\n",
    "    print(params)\n",
    "test_collect(1,2,3)"
   ]
  },
  {
   "cell_type": "code",
   "execution_count": 5,
   "metadata": {},
   "outputs": [
    {
     "name": "stdout",
     "output_type": "stream",
     "text": [
      "hi (1, 2, 3, 4, 5, 6)\n",
      "1 (2, 3)\n"
     ]
    }
   ],
   "source": [
    "def test_collect2(name,*params ):\n",
    "    print(name,params)\n",
    "\n",
    "test_collect2(\"hi\",1,2,3,4,5,6)\n",
    "test_collect2(1,2,3)"
   ]
  },
  {
   "cell_type": "code",
   "execution_count": 7,
   "metadata": {},
   "outputs": [
    {
     "name": "stdout",
     "output_type": "stream",
     "text": [
      "3 (1, 2)\n"
     ]
    }
   ],
   "source": [
    "def test_collect3(*params ,name):\n",
    "    print(name,params)\n",
    "# test_collect3(1,2,3)TypeError: test_collect3() missing 1 required keyword-only argument: 'name'\n",
    "test_collect3(1,2,name=3)"
   ]
  },
  {
   "cell_type": "code",
   "execution_count": 8,
   "metadata": {},
   "outputs": [
    {
     "name": "stdout",
     "output_type": "stream",
     "text": [
      "3 (1, 2, 3, 4)\n"
     ]
    }
   ],
   "source": [
    "def test_collect3(*params ,name=3):\n",
    "    print(name,params)\n",
    "test_collect3(1,2,3,4)"
   ]
  },
  {
   "cell_type": "code",
   "execution_count": 9,
   "metadata": {},
   "outputs": [
    {
     "name": "stdout",
     "output_type": "stream",
     "text": [
      "{'a': 1, 'b': 2, 'c': 3}\n"
     ]
    }
   ],
   "source": [
    "# 字典参数\n",
    "def test_collect4(**params):\n",
    "    print(params)\n",
    "test_collect4(a=1,b=2,c=3)"
   ]
  },
  {
   "cell_type": "code",
   "execution_count": 10,
   "metadata": {},
   "outputs": [
    {
     "name": "stdout",
     "output_type": "stream",
     "text": [
      "1\n",
      "(2, 3, 4)\n",
      "{'x': 1, 'y': 2, 'z': 3}\n"
     ]
    }
   ],
   "source": [
    "#综合示例\n",
    "def test_collect5(a,*b,**c):\n",
    "    print(a)\n",
    "    print(b)\n",
    "    print(c)\n",
    "test_collect5(1,2,3,4,x=1,y=2,z=3)"
   ]
  },
  {
   "cell_type": "code",
   "execution_count": 11,
   "metadata": {},
   "outputs": [
    {
     "name": "stdout",
     "output_type": "stream",
     "text": [
      "6\n",
      "10\n"
     ]
    }
   ],
   "source": [
    "d=10\n",
    "def add4(a,b,c):\n",
    "    print (a+b+c)\n",
    "    d=11\n",
    "add4(1,2,3)\n",
    "print(d)"
   ]
  },
  {
   "cell_type": "code",
   "execution_count": 14,
   "metadata": {},
   "outputs": [
    {
     "name": "stdout",
     "output_type": "stream",
     "text": [
      "10\n"
     ]
    }
   ],
   "source": [
    "d=10\n",
    "def add4(a,b,c):\n",
    "    #print (a+b+c+d) #UnboundLocalError: local variable 'd' referenced before assignment\n",
    "    d=11\n",
    "add4(1,2,3)\n",
    "print(d)"
   ]
  },
  {
   "cell_type": "code",
   "execution_count": 16,
   "metadata": {},
   "outputs": [
    {
     "name": "stdout",
     "output_type": "stream",
     "text": [
      "16\n",
      "11\n"
     ]
    }
   ],
   "source": [
    "d=10\n",
    "def add4(a,b,c):\n",
    "    global d\n",
    "    print(a+b+c+d)\n",
    "    d=11\n",
    "add4(1,2,3)\n",
    "print(d)"
   ]
  },
  {
   "cell_type": "code",
   "execution_count": null,
   "metadata": {},
   "outputs": [],
   "source": [
    "# RecursionError: maximum recursion depth exceeded while calling a Python object\n",
    "def add5(a,b,c):\n",
    "    print( a+b+c)\n",
    "    if(a>0)：\n",
    "        add5(a-1,b-1,c-1)        \n",
    "add5(1,2,3)"
   ]
  },
  {
   "cell_type": "code",
   "execution_count": 19,
   "metadata": {},
   "outputs": [
    {
     "data": {
      "text/plain": [
       "5050"
      ]
     },
     "execution_count": 19,
     "metadata": {},
     "output_type": "execute_result"
    }
   ],
   "source": [
    "def sum_it(n):\n",
    "    if n==0:\n",
    "        return 0\n",
    "    else :\n",
    "        return n+sum_it(n-1)\n",
    "sum_it(100)"
   ]
  },
  {
   "cell_type": "code",
   "execution_count": 3,
   "metadata": {},
   "outputs": [
    {
     "name": "stdout",
     "output_type": "stream",
     "text": [
      "5\n"
     ]
    }
   ],
   "source": [
    "def fibonacci(n):\n",
    "    if n==1:\n",
    "        #print(1)\n",
    "        return 0\n",
    "    elif n==2:\n",
    "        #print(2)\n",
    "        return 1\n",
    "    #print(n)\n",
    "    return fibonacci(n-2)+fibonacci(n-1)\n",
    "print(fibonacci(6))"
   ]
  },
  {
   "cell_type": "code",
   "execution_count": null,
   "metadata": {},
   "outputs": [],
   "source": []
  },
  {
   "cell_type": "code",
   "execution_count": null,
   "metadata": {},
   "outputs": [],
   "source": []
  },
  {
   "cell_type": "code",
   "execution_count": null,
   "metadata": {},
   "outputs": [],
   "source": []
  }
 ],
 "metadata": {
  "kernelspec": {
   "display_name": "Python 3",
   "language": "python",
   "name": "python3"
  },
  "language_info": {
   "codemirror_mode": {
    "name": "ipython",
    "version": 3
   },
   "file_extension": ".py",
   "mimetype": "text/x-python",
   "name": "python",
   "nbconvert_exporter": "python",
   "pygments_lexer": "ipython3",
   "version": "3.7.0"
  }
 },
 "nbformat": 4,
 "nbformat_minor": 2
}
