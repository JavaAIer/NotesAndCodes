{
 "cells": [
  {
   "cell_type": "code",
   "execution_count": 1,
   "metadata": {},
   "outputs": [
    {
     "data": {
      "text/plain": [
       "42"
      ]
     },
     "execution_count": 1,
     "metadata": {},
     "output_type": "execute_result"
    }
   ],
   "source": [
    "6*7"
   ]
  },
  {
   "cell_type": "code",
   "execution_count": 14,
   "metadata": {},
   "outputs": [
    {
     "name": "stdout",
     "output_type": "stream",
     "text": [
      "<class 'int'>\n"
     ]
    }
   ],
   "source": [
    "print(type(42))"
   ]
  },
  {
   "cell_type": "code",
   "execution_count": 15,
   "metadata": {},
   "outputs": [
    {
     "name": "stdout",
     "output_type": "stream",
     "text": [
      "<class 'int'>\n"
     ]
    }
   ],
   "source": [
    "print(type(-1))"
   ]
  },
  {
   "cell_type": "code",
   "execution_count": 4,
   "metadata": {},
   "outputs": [
    {
     "data": {
      "text/plain": [
       "complex"
      ]
     },
     "execution_count": 4,
     "metadata": {},
     "output_type": "execute_result"
    }
   ],
   "source": [
    "type(1+1j)"
   ]
  },
  {
   "cell_type": "code",
   "execution_count": 5,
   "metadata": {},
   "outputs": [
    {
     "data": {
      "text/plain": [
       "1.0"
      ]
     },
     "execution_count": 5,
     "metadata": {},
     "output_type": "execute_result"
    }
   ],
   "source": [
    "float(1)"
   ]
  },
  {
   "cell_type": "code",
   "execution_count": 6,
   "metadata": {},
   "outputs": [
    {
     "data": {
      "text/plain": [
       "1"
      ]
     },
     "execution_count": 6,
     "metadata": {},
     "output_type": "execute_result"
    }
   ],
   "source": [
    "int(1.2)"
   ]
  },
  {
   "cell_type": "code",
   "execution_count": 11,
   "metadata": {},
   "outputs": [
    {
     "data": {
      "text/plain": [
       "42"
      ]
     },
     "execution_count": 11,
     "metadata": {},
     "output_type": "execute_result"
    }
   ],
   "source": [
    "# 二进制\n",
    "# 0b开头，后面数字范围（0，1）\n",
    "0b101010"
   ]
  },
  {
   "cell_type": "code",
   "execution_count": 8,
   "metadata": {},
   "outputs": [
    {
     "data": {
      "text/plain": [
       "42"
      ]
     },
     "execution_count": 8,
     "metadata": {},
     "output_type": "execute_result"
    }
   ],
   "source": [
    "# 八进制\n",
    "# 0o开头，后面数字范围（0,1,2,3,4,5,6,7）\n",
    "0o52"
   ]
  },
  {
   "cell_type": "code",
   "execution_count": 9,
   "metadata": {},
   "outputs": [
    {
     "data": {
      "text/plain": [
       "42"
      ]
     },
     "execution_count": 9,
     "metadata": {},
     "output_type": "execute_result"
    }
   ],
   "source": [
    "# 十六进制\n",
    "# 0x开头，后面数字范围（0,1,2,3,4,5,6,7,8,9,a,b,c,d,e,f）\n",
    "0x2A"
   ]
  },
  {
   "cell_type": "code",
   "execution_count": 17,
   "metadata": {},
   "outputs": [
    {
     "name": "stdout",
     "output_type": "stream",
     "text": [
      "0b101010\n",
      "0o52\n",
      "0x2a\n",
      "0x2a\n"
     ]
    }
   ],
   "source": [
    "#bin(para) 将参数para转化成二进制数\n",
    "#oct(para) 将参数para转化成八进制数\n",
    "#hex(para) 将参数para转化成十六进制数\n",
    "print(bin(42))\n",
    "print(oct(42))\n",
    "print(hex(42))\n",
    "print(hex(0b101010))"
   ]
  },
  {
   "cell_type": "code",
   "execution_count": 23,
   "metadata": {},
   "outputs": [
    {
     "name": "stdout",
     "output_type": "stream",
     "text": [
      "1.0\n",
      "42\n",
      "2.0\n",
      "<class 'float'>\n",
      "<class 'int'>\n",
      "2.0\n",
      "<class 'float'>\n",
      "42\n",
      "<class 'int'>\n"
     ]
    }
   ],
   "source": [
    "x = 1.0\n",
    "print(x)\n",
    "y = 0x2a\n",
    "print(y)\n",
    "x = 2.0\n",
    "print(x)\n",
    "#z\n",
    "#NameError                                 Traceback (most recent call last)\n",
    "#<ipython-input-20-dca6fdcd9161> in <module>()\n",
    "#      5 x = 2.0\n",
    "#      6 print(x)\n",
    "#----> 7 z\n",
    "#\n",
    "#NameError: name 'z' is not defined\n",
    "\n",
    "print(type(x))\n",
    "print(type(y))\n",
    "z=x\n",
    "print(z)\n",
    "print(type(z))\n",
    "z=y\n",
    "print(z)\n",
    "print(type(z))"
   ]
  },
  {
   "cell_type": "code",
   "execution_count": 30,
   "metadata": {},
   "outputs": [
    {
     "name": "stdout",
     "output_type": "stream",
     "text": [
      "2\n",
      "<class 'int'>\n",
      "-1\n",
      "<class 'int'>\n",
      "25\n",
      "<class 'int'>\n",
      "1.25\n",
      "<class 'float'>\n",
      "1.6666666666666667\n",
      "<class 'float'>\n",
      "1\n",
      "<class 'int'>\n",
      "0\n",
      "<class 'int'>\n",
      "-4\n",
      "<class 'int'>\n"
     ]
    }
   ],
   "source": [
    "x=1+1\n",
    "print(x)\n",
    "print(type(x))\n",
    "x=2-3\n",
    "print(x)\n",
    "print(type(x))\n",
    "x=5*5\n",
    "print(x)\n",
    "print(type(x))\n",
    "x=5/4\n",
    "print(x)\n",
    "print(type(x))\n",
    "#计算一个除不尽的\n",
    "x=5/3\n",
    "print(x)\n",
    "print(type(x))\n",
    "x=5//4\n",
    "print(x)\n",
    "print(type(x))\n",
    "x=6//7\n",
    "print(x)\n",
    "print(type(x))\n",
    "x=-11//3\n",
    "print(x)\n",
    "print(type(x))\n"
   ]
  },
  {
   "cell_type": "code",
   "execution_count": 36,
   "metadata": {},
   "outputs": [
    {
     "name": "stdout",
     "output_type": "stream",
     "text": [
      "1\n",
      "0\n",
      "0\n",
      "1\n",
      "1024\n",
      "2.0\n"
     ]
    }
   ],
   "source": [
    "print(7%3)\n",
    "print(42%6)\n",
    "x=42\n",
    "print(x%2)\n",
    "x=13\n",
    "print(x%2)\n",
    "print(2**10)\n",
    "print(4**0.5)"
   ]
  },
  {
   "cell_type": "code",
   "execution_count": 55,
   "metadata": {},
   "outputs": [
    {
     "name": "stdout",
     "output_type": "stream",
     "text": [
      "3\n",
      "2\n",
      "4\n",
      "3\n",
      "4\n",
      "2\n",
      "12\n",
      "4.0\n",
      "1.0\n",
      "1\n",
      "25\n"
     ]
    }
   ],
   "source": [
    "x=2\n",
    "x=3\n",
    "print(x)\n",
    "x=1+1\n",
    "y=x**2\n",
    "print(x)\n",
    "print(y)\n",
    "x=x+1\n",
    "print(x)\n",
    "x+=1\n",
    "print(x)\n",
    "x-=2\n",
    "print(x)\n",
    "x*=6\n",
    "print(x)\n",
    "x/=3\n",
    "print(x)\n",
    "x//=3\n",
    "print(x)\n",
    "x=3\n",
    "x%=2\n",
    "print(x)\n",
    "x=5\n",
    "x**=2\n",
    "print(x)"
   ]
  },
  {
   "cell_type": "code",
   "execution_count": 39,
   "metadata": {},
   "outputs": [
    {
     "ename": "SyntaxError",
     "evalue": "can't assign to literal (<ipython-input-39-3804baa82d44>, line 1)",
     "output_type": "error",
     "traceback": [
      "\u001b[1;36m  File \u001b[1;32m\"<ipython-input-39-3804baa82d44>\"\u001b[1;36m, line \u001b[1;32m1\u001b[0m\n\u001b[1;33m    1=x\u001b[0m\n\u001b[1;37m       ^\u001b[0m\n\u001b[1;31mSyntaxError\u001b[0m\u001b[1;31m:\u001b[0m can't assign to literal\n"
     ]
    }
   ],
   "source": [
    "1=x"
   ]
  },
  {
   "cell_type": "code",
   "execution_count": 41,
   "metadata": {},
   "outputs": [
    {
     "ename": "SyntaxError",
     "evalue": "can't assign to literal (<ipython-input-41-c59fb5224dc0>, line 1)",
     "output_type": "error",
     "traceback": [
      "\u001b[1;36m  File \u001b[1;32m\"<ipython-input-41-c59fb5224dc0>\"\u001b[1;36m, line \u001b[1;32m1\u001b[0m\n\u001b[1;33m    1=1\u001b[0m\n\u001b[1;37m       ^\u001b[0m\n\u001b[1;31mSyntaxError\u001b[0m\u001b[1;31m:\u001b[0m can't assign to literal\n"
     ]
    }
   ],
   "source": [
    "1=1"
   ]
  },
  {
   "cell_type": "code",
   "execution_count": 43,
   "metadata": {},
   "outputs": [
    {
     "ename": "NameError",
     "evalue": "name 'not_exist' is not defined",
     "output_type": "error",
     "traceback": [
      "\u001b[1;31m---------------------------------------------------------------------------\u001b[0m",
      "\u001b[1;31mNameError\u001b[0m                                 Traceback (most recent call last)",
      "\u001b[1;32m<ipython-input-43-77966f7b6005>\u001b[0m in \u001b[0;36m<module>\u001b[1;34m()\u001b[0m\n\u001b[1;32m----> 1\u001b[1;33m \u001b[0mx\u001b[0m\u001b[1;33m=\u001b[0m\u001b[0mnot_exist\u001b[0m\u001b[1;33m*\u001b[0m\u001b[1;36m2\u001b[0m\u001b[1;33m\u001b[0m\u001b[0m\n\u001b[0m",
      "\u001b[1;31mNameError\u001b[0m: name 'not_exist' is not defined"
     ]
    }
   ],
   "source": [
    "x=not_exist*2"
   ]
  },
  {
   "cell_type": "code",
   "execution_count": 59,
   "metadata": {},
   "outputs": [
    {
     "name": "stdout",
     "output_type": "stream",
     "text": [
      "True\n",
      "False\n",
      "True\n",
      "True\n",
      "False\n",
      "True\n",
      "True\n"
     ]
    }
   ],
   "source": [
    "x=1\n",
    "print(x==1)\n",
    "print(x==2)\n",
    "print(3!=x)\n",
    "print(x>0)\n",
    "print(x<0.5)\n",
    "print(x>=1)\n",
    "print(x<=2)"
   ]
  },
  {
   "cell_type": "code",
   "execution_count": 62,
   "metadata": {},
   "outputs": [
    {
     "name": "stdout",
     "output_type": "stream",
     "text": [
      "<class 'bool'>\n",
      "False\n",
      "False\n",
      "True\n",
      "2\n",
      "2\n"
     ]
    }
   ],
   "source": [
    "print(type(2>1))\n",
    "print(not True)\n",
    "print(True and False)\n",
    "print(True or False)\n",
    "print(True * 2)\n",
    "print(True +1)"
   ]
  },
  {
   "cell_type": "code",
   "execution_count": null,
   "metadata": {},
   "outputs": [],
   "source": []
  }
 ],
 "metadata": {
  "kernelspec": {
   "display_name": "Python 3",
   "language": "python",
   "name": "python3"
  },
  "language_info": {
   "codemirror_mode": {
    "name": "ipython",
    "version": 3
   },
   "file_extension": ".py",
   "mimetype": "text/x-python",
   "name": "python",
   "nbconvert_exporter": "python",
   "pygments_lexer": "ipython3",
   "version": "3.7.0"
  }
 },
 "nbformat": 4,
 "nbformat_minor": 2
}
