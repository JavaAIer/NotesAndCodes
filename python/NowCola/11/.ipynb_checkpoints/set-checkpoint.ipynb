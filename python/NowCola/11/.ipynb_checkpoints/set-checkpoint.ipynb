{
 "cells": [
  {
   "cell_type": "code",
   "execution_count": 6,
   "metadata": {},
   "outputs": [
    {
     "name": "stdout",
     "output_type": "stream",
     "text": [
      "<class 'set'>\n",
      "{'c', 'b', 'd', 'a'}\n",
      "{1, 2, 3, 4, 5}\n",
      "{'o', 'h', 'e', 'l'}\n",
      "{1, 2, 3, 4}\n",
      "{1, 2, 3, 4, 'hello'}\n",
      "{1, 2, 3, 4}\n"
     ]
    },
    {
     "ename": "KeyError",
     "evalue": "'world'",
     "output_type": "error",
     "traceback": [
      "\u001b[1;31m---------------------------------------------------------------------------\u001b[0m",
      "\u001b[1;31mKeyError\u001b[0m                                  Traceback (most recent call last)",
      "\u001b[1;32m<ipython-input-6-a250064263f1>\u001b[0m in \u001b[0;36m<module>\u001b[1;34m()\u001b[0m\n\u001b[0;32m     13\u001b[0m \u001b[0mx\u001b[0m\u001b[1;33m.\u001b[0m\u001b[0mremove\u001b[0m\u001b[1;33m(\u001b[0m\u001b[1;34m\"hello\"\u001b[0m\u001b[1;33m)\u001b[0m\u001b[1;33m\u001b[0m\u001b[0m\n\u001b[0;32m     14\u001b[0m \u001b[0mprint\u001b[0m\u001b[1;33m(\u001b[0m\u001b[0mx\u001b[0m\u001b[1;33m)\u001b[0m\u001b[1;33m\u001b[0m\u001b[0m\n\u001b[1;32m---> 15\u001b[1;33m \u001b[0mx\u001b[0m\u001b[1;33m.\u001b[0m\u001b[0mremove\u001b[0m\u001b[1;33m(\u001b[0m\u001b[1;34m\"world\"\u001b[0m\u001b[1;33m)\u001b[0m\u001b[1;33m\u001b[0m\u001b[0m\n\u001b[0m\u001b[0;32m     16\u001b[0m \u001b[0mprint\u001b[0m\u001b[1;33m(\u001b[0m\u001b[0mx\u001b[0m\u001b[1;33m)\u001b[0m\u001b[1;33m\u001b[0m\u001b[0m\n",
      "\u001b[1;31mKeyError\u001b[0m: 'world'"
     ]
    }
   ],
   "source": [
    "x=set()\n",
    "print(type(x))\n",
    "x=set('abcd')\n",
    "print(x)\n",
    "x=set([1,2,3,4,5])\n",
    "print(x)\n",
    "x=set('hello')\n",
    "print(x)\n",
    "x=set([1,2,1,1,2,1,1,2,3,4])\n",
    "print(x)\n",
    "x.add(\"hello\")\n",
    "print(x)\n",
    "x.remove(\"hello\")\n",
    "print(x)\n",
    "# x.remove(\"world\")KeyError: 'world'\n",
    "print(x)"
   ]
  },
  {
   "cell_type": "code",
   "execution_count": 8,
   "metadata": {},
   "outputs": [
    {
     "name": "stdout",
     "output_type": "stream",
     "text": [
      "c\n",
      "{'b', 'd', 'a'}\n",
      "{'d', 'e', 'g', 'h', 'c', 'f', 'b', 'a'}\n",
      "{'d', 'e', 'h', 'c', 'f', 'g'}\n"
     ]
    }
   ],
   "source": [
    "x=set('abcd')\n",
    "print(x.pop())\n",
    "print(x)\n",
    "y=set('cdefgh')\n",
    "x.update(y)\n",
    "print(x)\n",
    "print(y)"
   ]
  },
  {
   "cell_type": "code",
   "execution_count": 9,
   "metadata": {},
   "outputs": [
    {
     "name": "stdout",
     "output_type": "stream",
     "text": [
      "{'b', 'a'}\n",
      "{'e', 'f'}\n",
      "{'d', 'c'}\n",
      "{'d', 'e', 'c', 'f', 'b', 'a'}\n"
     ]
    }
   ],
   "source": [
    "x=set('abcd')\n",
    "y=set('cdef')\n",
    "print(x-y)\n",
    "print(y-x)\n",
    "print(x&y)\n",
    "print(x|y)"
   ]
  },
  {
   "cell_type": "code",
   "execution_count": 12,
   "metadata": {},
   "outputs": [
    {
     "name": "stdout",
     "output_type": "stream",
     "text": [
      "True\n",
      "True\n"
     ]
    }
   ],
   "source": [
    "x=set('ab')\n",
    "y=set('abcd')\n",
    "print(x.issubset(y))\n",
    "print(y.issuperset(x))"
   ]
  },
  {
   "cell_type": "code",
   "execution_count": 13,
   "metadata": {},
   "outputs": [
    {
     "name": "stdout",
     "output_type": "stream",
     "text": [
      "{5}\n"
     ]
    }
   ],
   "source": [
    "eng_score=set([1,3,5,7,9,11])\n",
    "football_team=set([2,5,8,11])\n",
    "live_in_school=set([1,5,9,13])\n",
    "male=set([1,2,3,4,5])\n",
    "print(eng_score& football_team& live_in_school& male)"
   ]
  },
  {
   "cell_type": "code",
   "execution_count": 14,
   "metadata": {},
   "outputs": [
    {
     "name": "stdout",
     "output_type": "stream",
     "text": [
      "{1, 4, 9, 16, 25}\n"
     ]
    }
   ],
   "source": [
    "y=[1,2,3,4,5]\n",
    "x={i**2 for i in y }\n",
    "print(x)\n"
   ]
  },
  {
   "cell_type": "code",
   "execution_count": null,
   "metadata": {},
   "outputs": [],
   "source": []
  }
 ],
 "metadata": {
  "kernelspec": {
   "display_name": "Python 3",
   "language": "python",
   "name": "python3"
  },
  "language_info": {
   "codemirror_mode": {
    "name": "ipython",
    "version": 3
   },
   "file_extension": ".py",
   "mimetype": "text/x-python",
   "name": "python",
   "nbconvert_exporter": "python",
   "pygments_lexer": "ipython3",
   "version": "3.7.0"
  }
 },
 "nbformat": 4,
 "nbformat_minor": 2
}
