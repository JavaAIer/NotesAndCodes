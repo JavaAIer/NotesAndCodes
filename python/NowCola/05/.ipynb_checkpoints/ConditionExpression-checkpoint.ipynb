{
 "cells": [
  {
   "cell_type": "code",
   "execution_count": 1,
   "metadata": {},
   "outputs": [
    {
     "name": "stdout",
     "output_type": "stream",
     "text": [
      "hellohellohellohello\n"
     ]
    }
   ],
   "source": [
    "x=2\n",
    "y=\"hello\".count('l')\n",
    "z=x+y\n",
    "print('hello'*z)\n"
   ]
  },
  {
   "cell_type": "code",
   "execution_count": 2,
   "metadata": {},
   "outputs": [
    {
     "name": "stdout",
     "output_type": "stream",
     "text": [
      "8\n"
     ]
    }
   ],
   "source": [
    "# 语句换行\n",
    "total=  x+\\\n",
    "            y+\\\n",
    "            z\n",
    "print(total)"
   ]
  },
  {
   "cell_type": "code",
   "execution_count": 3,
   "metadata": {},
   "outputs": [
    {
     "data": {
      "text/plain": [
       "'hello,world'"
      ]
     },
     "execution_count": 3,
     "metadata": {},
     "output_type": "execute_result"
    }
   ],
   "source": [
    "x=1\n",
    "x+2\n",
    "'hello,world'"
   ]
  },
  {
   "cell_type": "code",
   "execution_count": 5,
   "metadata": {},
   "outputs": [
    {
     "name": "stdout",
     "output_type": "stream",
     "text": [
      "10 is greater than 5 \n"
     ]
    }
   ],
   "source": [
    "# 下面的语句中，四个空格的缩进非常重要。\n",
    "# 这跟java不同，这四个空格打错了的话，程序要么不运行，要么运行结果不正确。\n",
    "x=10\n",
    "if x > 5 :\n",
    "    print('{0} is greater than 5 '.format(x))\n",
    "x=1\n",
    "if x > 5 :\n",
    "    print('{0} is greater than 5 '.format(x))"
   ]
  },
  {
   "cell_type": "code",
   "execution_count": 6,
   "metadata": {},
   "outputs": [
    {
     "name": "stdout",
     "output_type": "stream",
     "text": [
      "1\n",
      "2\n"
     ]
    }
   ],
   "source": [
    "x=1\n",
    "y=2\n",
    "if x< y :\n",
    "    print (x)\n",
    "    print (y)"
   ]
  },
  {
   "cell_type": "code",
   "execution_count": 7,
   "metadata": {},
   "outputs": [
    {
     "name": "stdout",
     "output_type": "stream",
     "text": [
      "2\n"
     ]
    }
   ],
   "source": [
    "x=1\n",
    "y=2 \n",
    "if x>y :\n",
    "    print(x)\n",
    "else:\n",
    "    print(y)"
   ]
  },
  {
   "cell_type": "code",
   "execution_count": 8,
   "metadata": {},
   "outputs": [
    {
     "name": "stdout",
     "output_type": "stream",
     "text": [
      "x>=10 and x<50\n"
     ]
    }
   ],
   "source": [
    "x=42\n",
    "if x< 5:\n",
    "    print('x < 5 ')\n",
    "else:\n",
    "        if x < 10 :\n",
    "            print ('x>=5 and x<10')\n",
    "        else:\n",
    "            if x<50:\n",
    "                print ('x>=10 and x<50')\n",
    "            else:\n",
    "                print ('x>50')\n",
    "            \n",
    "        "
   ]
  },
  {
   "cell_type": "code",
   "execution_count": 9,
   "metadata": {},
   "outputs": [
    {
     "name": "stdout",
     "output_type": "stream",
     "text": [
      "x>=10 and x<50\n"
     ]
    }
   ],
   "source": [
    "x=42\n",
    "if x< 5:\n",
    "    print('x < 5 ')\n",
    "elif x < 10 :\n",
    "    print ('x>=5 and x<10')\n",
    "elif x<50:\n",
    "    print ('x>=10 and x<50')\n",
    "else:\n",
    "    print ('x>50')"
   ]
  },
  {
   "cell_type": "code",
   "execution_count": 10,
   "metadata": {},
   "outputs": [
    {
     "name": "stdout",
     "output_type": "stream",
     "text": [
      "OK\n"
     ]
    }
   ],
   "source": [
    "x=6\n",
    "s = 'Hello'\n",
    "if x>5 and x<10 and 'H' in s and not 0 ==x%4:\n",
    "    print('OK')"
   ]
  },
  {
   "cell_type": "code",
   "execution_count": 11,
   "metadata": {},
   "outputs": [
    {
     "name": "stdout",
     "output_type": "stream",
     "text": [
      "Not OK\n"
     ]
    }
   ],
   "source": [
    "if 0:\n",
    "    print('OK')\n",
    "else:\n",
    "    print('Not OK')"
   ]
  },
  {
   "cell_type": "code",
   "execution_count": 12,
   "metadata": {},
   "outputs": [
    {
     "name": "stdout",
     "output_type": "stream",
     "text": [
      "这样写更容易理解 \n"
     ]
    }
   ],
   "source": [
    "# if x:\n",
    "if x !=0:\n",
    "    print('这样写更容易理解 ')"
   ]
  },
  {
   "cell_type": "code",
   "execution_count": null,
   "metadata": {},
   "outputs": [],
   "source": []
  }
 ],
 "metadata": {
  "kernelspec": {
   "display_name": "Python 3",
   "language": "python",
   "name": "python3"
  },
  "language_info": {
   "codemirror_mode": {
    "name": "ipython",
    "version": 3
   },
   "file_extension": ".py",
   "mimetype": "text/x-python",
   "name": "python",
   "nbconvert_exporter": "python",
   "pygments_lexer": "ipython3",
   "version": "3.7.0"
  }
 },
 "nbformat": 4,
 "nbformat_minor": 2
}
