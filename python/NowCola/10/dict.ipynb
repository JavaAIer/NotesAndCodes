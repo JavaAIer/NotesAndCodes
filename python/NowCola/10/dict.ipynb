{
 "cells": [
  {
   "cell_type": "code",
   "execution_count": 15,
   "metadata": {},
   "outputs": [
    {
     "name": "stdout",
     "output_type": "stream",
     "text": [
      "<class 'dict'>\n",
      "{'a': 1, 1: 2, 'xyz': [1, 2, 3], 2: 1}\n",
      "{'a': 1, 1: 2, 'xyz': [1, 2, 3], 2: 1, 'b': 3.14}\n",
      "{'a': 1, 1: 2, 'xyz': [1, 2, 3], 2: 1, 'b': 6.28}\n",
      "6.28\n",
      "[1, 2, 3]\n",
      "2\n",
      "1\n",
      "True\n",
      "False\n"
     ]
    }
   ],
   "source": [
    "x={}\n",
    "print(type(x))\n",
    "x={'a':1,1:2,'xyz':[1,2,3],2:1}\n",
    "print(x)\n",
    "x['b']=3.14\n",
    "print(x)\n",
    "x['b']=3.14*2\n",
    "print(x)\n",
    "print(x['b'])\n",
    "print(x['xyz'])\n",
    "print(x[1])\n",
    "print(x[2])\n",
    "# print(x['not_exist']) KeyError: 'not_exist'\n",
    "print('a' in x)\n",
    "print('c' in x)"
   ]
  },
  {
   "cell_type": "code",
   "execution_count": 16,
   "metadata": {},
   "outputs": [
    {
     "name": "stdout",
     "output_type": "stream",
     "text": [
      "a 1\n",
      "1 2\n",
      "xyz [1, 2, 3]\n",
      "2 1\n"
     ]
    }
   ],
   "source": [
    "x={'a':1,1:2,'xyz':[1,2,3],2:1}\n",
    "for key in x :\n",
    "    print (key , x[key])"
   ]
  },
  {
   "cell_type": "code",
   "execution_count": 17,
   "metadata": {},
   "outputs": [
    {
     "name": "stdout",
     "output_type": "stream",
     "text": [
      "a 1\n",
      "1 2\n",
      "xyz [1, 2, 3]\n",
      "2 1\n"
     ]
    }
   ],
   "source": [
    "x={'a':1,1:2,'xyz':[1,2,3],2:1}\n",
    "for key,value in x.items():\n",
    "    print (key , value)"
   ]
  },
  {
   "cell_type": "code",
   "execution_count": 37,
   "metadata": {},
   "outputs": [
    {
     "name": "stdout",
     "output_type": "stream",
     "text": [
      "['a', 'd', 'c', 'xyz', 'h']\n",
      "['a', 'c', 'd', 'h', 'xyz']\n",
      "a-->23\n",
      "c-->79\n",
      "d-->46\n",
      "h-->198\n",
      "xyz-->7\n"
     ]
    }
   ],
   "source": [
    "y={'a':23,'d':46,'c':79,'xyz':7,'h':198}\n",
    "keys = list(y.keys())\n",
    "print(keys)\n",
    "keys.sort()\n",
    "print(keys)\n",
    "for key in (keys):\n",
    "    print(\"{}-->{}\".format(key,y[key]))"
   ]
  },
  {
   "cell_type": "code",
   "execution_count": 33,
   "metadata": {},
   "outputs": [
    {
     "name": "stdout",
     "output_type": "stream",
     "text": [
      "{'貂蝉': 65, '曹操': 90, '韩信': 95, '常遇春': 50, '李白': 80}\n",
      "[(65, '貂蝉'), (90, '曹操'), (95, '韩信'), (50, '常遇春'), (80, '李白')]\n",
      "[(50, '常遇春'), (65, '貂蝉'), (80, '李白'), (90, '曹操'), (95, '韩信')]\n",
      "[(95, '韩信'), (90, '曹操'), (80, '李白'), (65, '貂蝉'), (50, '常遇春')]\n"
     ]
    }
   ],
   "source": [
    "y={'貂蝉':65,'曹操':90,'韩信':95,'常遇春':50,'李白':80}\n",
    "print(y)\n",
    "z=list(zip(y.values(),y.keys()))\n",
    "print(z)\n",
    "z.sort()\n",
    "print(z)\n",
    "z.reverse()\n",
    "print(z)"
   ]
  },
  {
   "cell_type": "code",
   "execution_count": 32,
   "metadata": {},
   "outputs": [
    {
     "name": "stdout",
     "output_type": "stream",
     "text": [
      "True\n",
      "True\n",
      "False\n",
      "True\n",
      "True\n"
     ]
    }
   ],
   "source": [
    "print((2,'b')>(1,'a'))\n",
    "print((1,'b')>(1,'a'))\n",
    "print((1,'b')>(1,'c'))\n",
    "print((1,2,3)>(1,2))\n",
    "print((1,'a')==(1,'a'))\n"
   ]
  },
  {
   "cell_type": "code",
   "execution_count": 45,
   "metadata": {},
   "outputs": [
    {
     "name": "stdout",
     "output_type": "stream",
     "text": [
      "{4: 1}\n",
      "1\n",
      "0\n",
      "1\n",
      "1\n",
      "None\n"
     ]
    }
   ],
   "source": [
    "x=[1,2,3]\n",
    "# x[4]=1 IndexError: list assignment index out of range\n",
    "y={}\n",
    "y[4]=1\n",
    "print(y)\n",
    "# y[3] KeyError: 3\n",
    "if 4 in y:\n",
    "    print(y[4])\n",
    "print(y.get(3,0))\n",
    "print(y.get(4,0))\n",
    "print(y.get(4))\n",
    "print(y.get(3))"
   ]
  },
  {
   "cell_type": "code",
   "execution_count": 46,
   "metadata": {},
   "outputs": [
    {
     "name": "stdout",
     "output_type": "stream",
     "text": [
      "{1: 1, 2: 2, 3: 4, 4: 4, 5: 5}\n"
     ]
    }
   ],
   "source": [
    "x={1:1,2:2,3:3}\n",
    "y={3:4,4:4,5:5}\n",
    "x.update(y)\n",
    "print(x)"
   ]
  },
  {
   "cell_type": "code",
   "execution_count": 47,
   "metadata": {},
   "outputs": [
    {
     "name": "stdout",
     "output_type": "stream",
     "text": [
      "[76, 8]\n"
     ]
    }
   ],
   "source": [
    "# 列表推导式\n",
    "x=[3,45,76,89,8,19,43]\n",
    "y=[i for i in x if i%2 ==0]\n",
    "print(y)"
   ]
  },
  {
   "cell_type": "code",
   "execution_count": 49,
   "metadata": {},
   "outputs": [
    {
     "name": "stdout",
     "output_type": "stream",
     "text": [
      "{3: 6, 45: 90, 76: 152, 89: 178, 8: 16, 19: 38, 43: 86}\n"
     ]
    }
   ],
   "source": [
    "# 字典推导式\n",
    "x=[3,45,76,89,8,19,43]\n",
    "y={i:i*2 for i in x}\n",
    "print(y)"
   ]
  },
  {
   "cell_type": "code",
   "execution_count": 50,
   "metadata": {},
   "outputs": [
    {
     "name": "stdout",
     "output_type": "stream",
     "text": [
      "{3: 6, 45: 90}\n"
     ]
    }
   ],
   "source": [
    "# 字典推导式\n",
    "x=[3,45,76,89,8,19,43]\n",
    "y={i:i*2 for i in x if i %3==0}\n",
    "print(y)"
   ]
  },
  {
   "cell_type": "code",
   "execution_count": 52,
   "metadata": {},
   "outputs": [
    {
     "name": "stdout",
     "output_type": "stream",
     "text": [
      "{1: 'a', 2: 'b', 3: 'c'}\n"
     ]
    }
   ],
   "source": [
    "# 字典推导式：互换key-value\n",
    "x={'a':1,'b':2,'c':3}\n",
    "y={x[i]:i for i in x}\n",
    "print(y)"
   ]
  },
  {
   "cell_type": "code",
   "execution_count": 53,
   "metadata": {},
   "outputs": [
    {
     "name": "stdout",
     "output_type": "stream",
     "text": [
      "{1: 'a', 2: 'b', 3: 'd'}\n"
     ]
    }
   ],
   "source": [
    "# 字典推导式：互换key-value\n",
    "# 当value重复时，合并过程中会有更新操作导致字典长度变少\n",
    "x={'a':1,'b':2,'c':3,'d':3}\n",
    "y={x[i]:i for i in x}\n",
    "print(y)"
   ]
  },
  {
   "cell_type": "code",
   "execution_count": 54,
   "metadata": {},
   "outputs": [
    {
     "name": "stdout",
     "output_type": "stream",
     "text": [
      "the 9\n",
      "of 3\n",
      "i 3\n",
      "to 2\n",
      "repeat 2\n",
      "heart 2\n",
      "and 2\n",
      "withered 1\n",
      "well-being 1\n",
      "valleys 1\n",
      "undefeated 1\n",
      "swaying 1\n",
      "summer 1\n",
      "soul 1\n",
      "sickle 1\n",
      "rule 1\n",
      "rate 1\n",
      "outrightly 1\n",
      "open 1\n",
      "oasis 1\n",
      "not 1\n",
      "lonely 1\n",
      "load 1\n",
      "in 1\n",
      "heard 1\n",
      "harvesting 1\n",
      "from 1\n",
      "flowers 1\n",
      "fiery 1\n",
      "eventually 1\n",
      "echo 1\n",
      "do 1\n",
      "desert 1\n",
      "demon 1\n",
      "cumbersome 1\n",
      "but 1\n",
      "bright 1\n",
      "breathing 1\n",
      "born 1\n",
      "bored 1\n",
      "believe 1\n",
      "bear 1\n",
      "as 1\n",
      "am 1\n",
      "also 1\n"
     ]
    }
   ],
   "source": [
    "# 词频统计：统计一段英文中，每个单词出现的次数\n",
    "p = '''\n",
    "I heard the echo, from the valleys and the heart\n",
    "Open to the lonely soul of sickle harvesting\n",
    "Repeat outrightly, but also repeat the well-being of\n",
    "Eventually swaying in the desert oasis\n",
    "I believe I am\n",
    "Born as the bright summer flowers\n",
    "Do not withered undefeated fiery demon rule\n",
    "Heart rate and breathing to bear the load of the cumbersome\n",
    "Bored\n",
    "'''\n",
    "\n",
    "lines = p.strip().split('\\n')\n",
    "words_cnt = {}\n",
    "for line in lines:\n",
    "    line = line.replace(',', '').lower()\n",
    "    words = line.split(' ')\n",
    "    for word in words:\n",
    "        words_cnt[word] = words_cnt.get(word, 0) + 1\n",
    "\n",
    "words_lst = list(zip(words_cnt.values(), words_cnt.keys()))\n",
    "words_lst.sort()\n",
    "words_lst.reverse()\n",
    "for word in words_lst:\n",
    "    print(word[1], words_cnt[word[1]])"
   ]
  },
  {
   "cell_type": "code",
   "execution_count": null,
   "metadata": {},
   "outputs": [],
   "source": []
  }
 ],
 "metadata": {
  "kernelspec": {
   "display_name": "Python 3",
   "language": "python",
   "name": "python3"
  },
  "language_info": {
   "codemirror_mode": {
    "name": "ipython",
    "version": 3
   },
   "file_extension": ".py",
   "mimetype": "text/x-python",
   "name": "python",
   "nbconvert_exporter": "python",
   "pygments_lexer": "ipython3",
   "version": "3.7.0"
  }
 },
 "nbformat": 4,
 "nbformat_minor": 2
}
