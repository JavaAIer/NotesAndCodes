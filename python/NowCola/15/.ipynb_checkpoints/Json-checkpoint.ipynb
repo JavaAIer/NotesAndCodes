{
 "cells": [
  {
   "cell_type": "code",
   "execution_count": 5,
   "metadata": {},
   "outputs": [
    {
     "name": "stdout",
     "output_type": "stream",
     "text": [
      "{'foo': True, 'bar': 42, 'foobar': [0, 1]}\n",
      "{\"foo\": true, \"bar\": 42, \"foobar\": [0, 1]}\n"
     ]
    }
   ],
   "source": [
    "import json\n",
    "data = {\n",
    "    'foo':True,\n",
    "    'bar':42,\n",
    "    'foobar':[0,1]\n",
    "}\n",
    "print(data)\n",
    "s=json.dumps(data)\n",
    "print(s)\n",
    "with open(r'D:\\Codes\\NowCoder\\NotesAndCodes\\python\\NowCola\\15\\test.json','w') as f :\n",
    "    f.write(s)\n",
    "with open(r'D:\\Codes\\NowCoder\\NotesAndCodes\\python\\NowCola\\15\\test2.json','w') as g :\n",
    "    json.dump(data,g)"
   ]
  },
  {
   "cell_type": "code",
   "execution_count": 6,
   "metadata": {},
   "outputs": [
    {
     "name": "stdout",
     "output_type": "stream",
     "text": [
      "{'foo': True, 'bar': 42, 'foobar': [0, 1]}\n"
     ]
    }
   ],
   "source": [
    "d=json.loads(s)\n",
    "print(d)"
   ]
  },
  {
   "cell_type": "code",
   "execution_count": 7,
   "metadata": {},
   "outputs": [
    {
     "name": "stdout",
     "output_type": "stream",
     "text": [
      "{'foo': True, 'bar': 42, 'foobar': [0, 1]}\n"
     ]
    }
   ],
   "source": [
    "with open(r'D:\\Codes\\NowCoder\\NotesAndCodes\\python\\NowCola\\15\\test2.json','r') as r :\n",
    "    d2=json.load(r)\n",
    "    print(d2)"
   ]
  },
  {
   "cell_type": "code",
   "execution_count": 8,
   "metadata": {},
   "outputs": [
    {
     "name": "stdout",
     "output_type": "stream",
     "text": [
      "{\n",
      "    \"foo\": true,\n",
      "    \"bar\": 42,\n",
      "    \"foobar\": [\n",
      "        0,\n",
      "        1\n",
      "    ]\n",
      "}\n"
     ]
    }
   ],
   "source": [
    "s_pretty = json.dumps(data,indent=4)\n",
    "print(s_pretty)"
   ]
  },
  {
   "cell_type": "code",
   "execution_count": 9,
   "metadata": {},
   "outputs": [
    {
     "name": "stdout",
     "output_type": "stream",
     "text": [
      "{\"foo\":true,\"bar\":42,\"foobar\":[0,1]}\n"
     ]
    }
   ],
   "source": [
    "s_pretty = json.dumps(data,separators=(',',':'))\n",
    "print(s_pretty)"
   ]
  },
  {
   "cell_type": "code",
   "execution_count": null,
   "metadata": {},
   "outputs": [],
   "source": []
  }
 ],
 "metadata": {
  "kernelspec": {
   "display_name": "Python 3",
   "language": "python",
   "name": "python3"
  },
  "language_info": {
   "codemirror_mode": {
    "name": "ipython",
    "version": 3
   },
   "file_extension": ".py",
   "mimetype": "text/x-python",
   "name": "python",
   "nbconvert_exporter": "python",
   "pygments_lexer": "ipython3",
   "version": "3.7.0"
  }
 },
 "nbformat": 4,
 "nbformat_minor": 2
}
